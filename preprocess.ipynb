{
 "cells": [
  {
   "cell_type": "code",
   "execution_count": 1,
   "metadata": {},
   "outputs": [],
   "source": [
    "import numpy as np\n",
    "import pandas as pd\n",
    "import matplotlib.pyplot as plt"
   ]
  },
  {
   "cell_type": "code",
   "execution_count": 2,
   "metadata": {
    "scrolled": false
   },
   "outputs": [],
   "source": [
    "train1 = pd.read_excel('Train_dataset.xlsx')\n",
    "train = train1.drop(['Infect_Prob', 'Name', 'Designation'], axis = 1)"
   ]
  },
  {
   "cell_type": "code",
   "execution_count": 3,
   "metadata": {},
   "outputs": [
    {
     "data": {
      "text/html": [
       "<div>\n",
       "<style scoped>\n",
       "    .dataframe tbody tr th:only-of-type {\n",
       "        vertical-align: middle;\n",
       "    }\n",
       "\n",
       "    .dataframe tbody tr th {\n",
       "        vertical-align: top;\n",
       "    }\n",
       "\n",
       "    .dataframe thead th {\n",
       "        text-align: right;\n",
       "    }\n",
       "</style>\n",
       "<table border=\"1\" class=\"dataframe\">\n",
       "  <thead>\n",
       "    <tr style=\"text-align: right;\">\n",
       "      <th></th>\n",
       "      <th>people_ID</th>\n",
       "      <th>Region</th>\n",
       "      <th>Gender</th>\n",
       "      <th>Married</th>\n",
       "      <th>Children</th>\n",
       "      <th>Occupation</th>\n",
       "      <th>Mode_transport</th>\n",
       "      <th>cases/1M</th>\n",
       "      <th>Deaths/1M</th>\n",
       "      <th>comorbidity</th>\n",
       "      <th>...</th>\n",
       "      <th>Platelets</th>\n",
       "      <th>HBB</th>\n",
       "      <th>d-dimer</th>\n",
       "      <th>Heart rate</th>\n",
       "      <th>HDL cholesterol</th>\n",
       "      <th>Charlson Index</th>\n",
       "      <th>Blood Glucose</th>\n",
       "      <th>Insurance</th>\n",
       "      <th>salary</th>\n",
       "      <th>FT/month</th>\n",
       "    </tr>\n",
       "  </thead>\n",
       "  <tbody>\n",
       "    <tr>\n",
       "      <th>0</th>\n",
       "      <td>1</td>\n",
       "      <td>Bhubaneshwar</td>\n",
       "      <td>Female</td>\n",
       "      <td>YES</td>\n",
       "      <td>1.0</td>\n",
       "      <td>Farmer</td>\n",
       "      <td>Public</td>\n",
       "      <td>2</td>\n",
       "      <td>0</td>\n",
       "      <td>Hypertension</td>\n",
       "      <td>...</td>\n",
       "      <td>154.0</td>\n",
       "      <td>93.0</td>\n",
       "      <td>233.0</td>\n",
       "      <td>82.0</td>\n",
       "      <td>58.0</td>\n",
       "      <td>27</td>\n",
       "      <td>7</td>\n",
       "      <td>3600000.0</td>\n",
       "      <td>1300000</td>\n",
       "      <td>2.0</td>\n",
       "    </tr>\n",
       "    <tr>\n",
       "      <th>1</th>\n",
       "      <td>2</td>\n",
       "      <td>Bhubaneshwar</td>\n",
       "      <td>Female</td>\n",
       "      <td>YES</td>\n",
       "      <td>2.0</td>\n",
       "      <td>Farmer</td>\n",
       "      <td>Walk</td>\n",
       "      <td>2</td>\n",
       "      <td>0</td>\n",
       "      <td>Diabetes</td>\n",
       "      <td>...</td>\n",
       "      <td>121.0</td>\n",
       "      <td>56.0</td>\n",
       "      <td>328.0</td>\n",
       "      <td>89.0</td>\n",
       "      <td>68.0</td>\n",
       "      <td>5</td>\n",
       "      <td>6</td>\n",
       "      <td>1600000.0</td>\n",
       "      <td>400000</td>\n",
       "      <td>1.0</td>\n",
       "    </tr>\n",
       "    <tr>\n",
       "      <th>2</th>\n",
       "      <td>3</td>\n",
       "      <td>Bhubaneshwar</td>\n",
       "      <td>Female</td>\n",
       "      <td>NO</td>\n",
       "      <td>1.0</td>\n",
       "      <td>Cleaner</td>\n",
       "      <td>Public</td>\n",
       "      <td>2</td>\n",
       "      <td>0</td>\n",
       "      <td>None</td>\n",
       "      <td>...</td>\n",
       "      <td>124.0</td>\n",
       "      <td>137.0</td>\n",
       "      <td>213.0</td>\n",
       "      <td>77.0</td>\n",
       "      <td>43.0</td>\n",
       "      <td>40</td>\n",
       "      <td>6</td>\n",
       "      <td>3400000.0</td>\n",
       "      <td>900000</td>\n",
       "      <td>1.0</td>\n",
       "    </tr>\n",
       "    <tr>\n",
       "      <th>3</th>\n",
       "      <td>4</td>\n",
       "      <td>Bhubaneshwar</td>\n",
       "      <td>Female</td>\n",
       "      <td>YES</td>\n",
       "      <td>1.0</td>\n",
       "      <td>Driver</td>\n",
       "      <td>Car</td>\n",
       "      <td>2</td>\n",
       "      <td>0</td>\n",
       "      <td>Coronary Heart Disease</td>\n",
       "      <td>...</td>\n",
       "      <td>98.0</td>\n",
       "      <td>167.0</td>\n",
       "      <td>275.0</td>\n",
       "      <td>64.0</td>\n",
       "      <td>60.0</td>\n",
       "      <td>27</td>\n",
       "      <td>7</td>\n",
       "      <td>700000.0</td>\n",
       "      <td>2300000</td>\n",
       "      <td>1.0</td>\n",
       "    </tr>\n",
       "    <tr>\n",
       "      <th>4</th>\n",
       "      <td>5</td>\n",
       "      <td>Bhubaneshwar</td>\n",
       "      <td>Female</td>\n",
       "      <td>NO</td>\n",
       "      <td>2.0</td>\n",
       "      <td>Manufacturing</td>\n",
       "      <td>Car</td>\n",
       "      <td>2</td>\n",
       "      <td>0</td>\n",
       "      <td>Diabetes</td>\n",
       "      <td>...</td>\n",
       "      <td>21.0</td>\n",
       "      <td>153.0</td>\n",
       "      <td>331.0</td>\n",
       "      <td>71.0</td>\n",
       "      <td>64.0</td>\n",
       "      <td>32</td>\n",
       "      <td>7</td>\n",
       "      <td>3200000.0</td>\n",
       "      <td>1100000</td>\n",
       "      <td>1.0</td>\n",
       "    </tr>\n",
       "  </tbody>\n",
       "</table>\n",
       "<p>5 rows × 25 columns</p>\n",
       "</div>"
      ],
      "text/plain": [
       "   people_ID        Region  Gender Married  Children     Occupation  \\\n",
       "0          1  Bhubaneshwar  Female     YES       1.0         Farmer   \n",
       "1          2  Bhubaneshwar  Female     YES       2.0         Farmer   \n",
       "2          3  Bhubaneshwar  Female      NO       1.0        Cleaner   \n",
       "3          4  Bhubaneshwar  Female     YES       1.0         Driver   \n",
       "4          5  Bhubaneshwar  Female      NO       2.0  Manufacturing   \n",
       "\n",
       "  Mode_transport  cases/1M  Deaths/1M             comorbidity  ...  Platelets  \\\n",
       "0         Public         2          0            Hypertension  ...      154.0   \n",
       "1           Walk         2          0                Diabetes  ...      121.0   \n",
       "2         Public         2          0                    None  ...      124.0   \n",
       "3            Car         2          0  Coronary Heart Disease  ...       98.0   \n",
       "4            Car         2          0                Diabetes  ...       21.0   \n",
       "\n",
       "     HBB d-dimer Heart rate  HDL cholesterol  Charlson Index  Blood Glucose  \\\n",
       "0   93.0   233.0       82.0             58.0              27              7   \n",
       "1   56.0   328.0       89.0             68.0               5              6   \n",
       "2  137.0   213.0       77.0             43.0              40              6   \n",
       "3  167.0   275.0       64.0             60.0              27              7   \n",
       "4  153.0   331.0       71.0             64.0              32              7   \n",
       "\n",
       "   Insurance   salary  FT/month  \n",
       "0  3600000.0  1300000       2.0  \n",
       "1  1600000.0   400000       1.0  \n",
       "2  3400000.0   900000       1.0  \n",
       "3   700000.0  2300000       1.0  \n",
       "4  3200000.0  1100000       1.0  \n",
       "\n",
       "[5 rows x 25 columns]"
      ]
     },
     "execution_count": 3,
     "metadata": {},
     "output_type": "execute_result"
    }
   ],
   "source": [
    "train.head()"
   ]
  },
  {
   "cell_type": "code",
   "execution_count": 4,
   "metadata": {},
   "outputs": [
    {
     "data": {
      "text/plain": [
       "Children                   311\n",
       "Occupation                 747\n",
       "Mode_transport               3\n",
       "comorbidity                226\n",
       "cardiological pressure      97\n",
       "Diuresis                   716\n",
       "Platelets                  924\n",
       "HBB                         16\n",
       "d-dimer                   1114\n",
       "Heart rate                1114\n",
       "HDL cholesterol             35\n",
       "Insurance                 1090\n",
       "FT/month                   723\n",
       "dtype: int64"
      ]
     },
     "execution_count": 4,
     "metadata": {},
     "output_type": "execute_result"
    }
   ],
   "source": [
    "train.isnull().sum()[train.isnull().sum() != 0]"
   ]
  },
  {
   "cell_type": "code",
   "execution_count": 5,
   "metadata": {},
   "outputs": [
    {
     "name": "stderr",
     "output_type": "stream",
     "text": [
      "/snap/jupyter/6/lib/python3.7/site-packages/ipykernel_launcher.py:5: SettingWithCopyWarning: \n",
      "A value is trying to be set on a copy of a slice from a DataFrame\n",
      "\n",
      "See the caveats in the documentation: https://pandas.pydata.org/pandas-docs/stable/user_guide/indexing.html#returning-a-view-versus-a-copy\n",
      "  \"\"\"\n"
     ]
    }
   ],
   "source": [
    "import random\n",
    "train_chil = train['Children']\n",
    "for i in range(len(train_chil)):\n",
    "    if train_chil.isnull()[i]:\n",
    "        train_chil[i] = random.choice([0,1,2])\n",
    "train['Children'] = train_chil\n"
   ]
  },
  {
   "cell_type": "code",
   "execution_count": 6,
   "metadata": {},
   "outputs": [
    {
     "name": "stderr",
     "output_type": "stream",
     "text": [
      "/snap/jupyter/6/lib/python3.7/site-packages/ipykernel_launcher.py:7: SettingWithCopyWarning: \n",
      "A value is trying to be set on a copy of a slice from a DataFrame\n",
      "\n",
      "See the caveats in the documentation: https://pandas.pydata.org/pandas-docs/stable/user_guide/indexing.html#returning-a-view-versus-a-copy\n",
      "  import sys\n"
     ]
    }
   ],
   "source": [
    "occs = train['Occupation'].unique()\n",
    "occs = np.delete(occs,6)\n",
    "\n",
    "train_occu = train['Occupation']\n",
    "for i in range(len(train_occu)):\n",
    "    if train_occu.isnull()[i]:\n",
    "        train_occu[i] = random.choice(occs)\n",
    "train['Occupation'] = train_occu\n"
   ]
  },
  {
   "cell_type": "code",
   "execution_count": 7,
   "metadata": {},
   "outputs": [
    {
     "name": "stderr",
     "output_type": "stream",
     "text": [
      "/snap/jupyter/6/lib/python3.7/site-packages/ipykernel_launcher.py:6: SettingWithCopyWarning: \n",
      "A value is trying to be set on a copy of a slice from a DataFrame\n",
      "\n",
      "See the caveats in the documentation: https://pandas.pydata.org/pandas-docs/stable/user_guide/indexing.html#returning-a-view-versus-a-copy\n",
      "  \n"
     ]
    }
   ],
   "source": [
    "mot = train['Mode_transport'].unique()\n",
    "mot = np.delete(mot,3)\n",
    "train_mot = train['Mode_transport']\n",
    "for i in range(len(train_mot)):\n",
    "    if train_mot.isnull()[i]:\n",
    "        train_mot[i] = random.choice(mot)\n",
    "train['Mode_transport'] = train_mot\n"
   ]
  },
  {
   "cell_type": "code",
   "execution_count": 8,
   "metadata": {},
   "outputs": [
    {
     "name": "stderr",
     "output_type": "stream",
     "text": [
      "/snap/jupyter/6/lib/python3.7/site-packages/ipykernel_launcher.py:4: SettingWithCopyWarning: \n",
      "A value is trying to be set on a copy of a slice from a DataFrame\n",
      "\n",
      "See the caveats in the documentation: https://pandas.pydata.org/pandas-docs/stable/user_guide/indexing.html#returning-a-view-versus-a-copy\n",
      "  after removing the cwd from sys.path.\n"
     ]
    }
   ],
   "source": [
    "train_comob = train['comorbidity']\n",
    "for i in range(len(train_comob)):\n",
    "    if train_comob.isnull()[i]:\n",
    "        train_comob[i] = 'None'\n",
    "train['comorbidity'] = train_comob"
   ]
  },
  {
   "cell_type": "code",
   "execution_count": 9,
   "metadata": {},
   "outputs": [],
   "source": [
    "diur = train['Diuresis']\n",
    "train['Diuresis'] = diur.fillna(diur.mean())"
   ]
  },
  {
   "cell_type": "code",
   "execution_count": 10,
   "metadata": {},
   "outputs": [],
   "source": [
    "plat = train['Platelets']\n",
    "train['Platelets'] = plat.fillna(plat.mean())"
   ]
  },
  {
   "cell_type": "code",
   "execution_count": 11,
   "metadata": {},
   "outputs": [],
   "source": [
    "ddimer = train['d-dimer']\n",
    "train['d-dimer'] = ddimer.fillna(ddimer.mean())"
   ]
  },
  {
   "cell_type": "code",
   "execution_count": 12,
   "metadata": {},
   "outputs": [],
   "source": [
    "hr = train['Heart rate']\n",
    "train['Heart rate'] = hr.fillna(hr.mean())"
   ]
  },
  {
   "cell_type": "code",
   "execution_count": 13,
   "metadata": {},
   "outputs": [],
   "source": [
    "insu = train['Insurance']\n",
    "train['Insurance'] = insu.fillna(insu.mean())"
   ]
  },
  {
   "cell_type": "code",
   "execution_count": 14,
   "metadata": {},
   "outputs": [],
   "source": [
    "ftm = train['FT/month']\n",
    "train['FT/month'] = ftm.fillna(ftm.mean())"
   ]
  },
  {
   "cell_type": "code",
   "execution_count": 15,
   "metadata": {},
   "outputs": [],
   "source": [
    "train.dropna(inplace = True)"
   ]
  },
  {
   "cell_type": "code",
   "execution_count": 16,
   "metadata": {},
   "outputs": [],
   "source": [
    "train['Infect_Prob'] = train1['Infect_Prob']\n"
   ]
  },
  {
   "cell_type": "code",
   "execution_count": 17,
   "metadata": {},
   "outputs": [],
   "source": [
    "train.to_csv('train_modified.csv', index = False)"
   ]
  }
 ],
 "metadata": {
  "kernelspec": {
   "display_name": "Python 3",
   "language": "python",
   "name": "python3"
  },
  "language_info": {
   "codemirror_mode": {
    "name": "ipython",
    "version": 3
   },
   "file_extension": ".py",
   "mimetype": "text/x-python",
   "name": "python",
   "nbconvert_exporter": "python",
   "pygments_lexer": "ipython3",
   "version": "3.7.3"
  }
 },
 "nbformat": 4,
 "nbformat_minor": 2
}
